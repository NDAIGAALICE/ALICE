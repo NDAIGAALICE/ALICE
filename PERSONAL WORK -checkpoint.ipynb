{
 "cells": [
  {
   "cell_type": "code",
   "execution_count": 1,
   "id": "37d0b268",
   "metadata": {},
   "outputs": [],
   "source": [
    "# Print all elements of a list using for loop."
   ]
  },
  {
   "cell_type": "code",
   "execution_count": 6,
   "id": "2ef6c2a9",
   "metadata": {},
   "outputs": [
    {
     "name": "stdout",
     "output_type": "stream",
     "text": [
      "10\n",
      "20\n",
      "30\n",
      "40\n",
      "50\n"
     ]
    }
   ],
   "source": [
    "a=[10, 20, 30, 40, 50]\n",
    "for element in a:\n",
    "    print(element)"
   ]
  },
  {
   "cell_type": "code",
   "execution_count": 7,
   "id": "97379e9a",
   "metadata": {},
   "outputs": [],
   "source": [
    "#Using range(1,101), make two list, one containing all even numbers andother containing all odd numbers"
   ]
  },
  {
   "cell_type": "code",
   "execution_count": 26,
   "id": "e8017186",
   "metadata": {},
   "outputs": [
    {
     "ename": "SyntaxError",
     "evalue": "EOL while scanning string literal (1441109131.py, line 2)",
     "output_type": "error",
     "traceback": [
      "\u001b[1;36m  Input \u001b[1;32mIn [26]\u001b[1;36m\u001b[0m\n\u001b[1;33m    n=int(input(\"enter lenght of list:))\u001b[0m\n\u001b[1;37m                                        ^\u001b[0m\n\u001b[1;31mSyntaxError\u001b[0m\u001b[1;31m:\u001b[0m EOL while scanning string literal\n"
     ]
    }
   ],
   "source": [
    "l=[1, 101]\n",
    "n=int(input(\"enter lenght of list:))\n",
    "for i in range (1, n+1):\n",
    "   print(n)"
   ]
  },
  {
   "cell_type": "code",
   "execution_count": 11,
   "id": "7ccaaf53",
   "metadata": {},
   "outputs": [],
   "source": [
    "#A company decided to give bonus of 5% to employee if his/her year of service is more than 5 years. Ask user for their salary and year of service and print the net bonus amount."
   ]
  },
  {
   "cell_type": "code",
   "execution_count": null,
   "id": "262f84ba",
   "metadata": {},
   "outputs": [],
   "source": [
    "#A school has following rules for grading system:\n",
    "#a. Below 25 - F\n",
    "#b. 25 to 45 - E\n",
    "#c. 45 to 50 - D\n",
    "#d. 50 to 60 - C\n",
    "#e. 60 to 80 - B\n",
    "#f. Above 80 - A\n",
    "\n",
    "for i in range(0<100):\n",
    "    grade=str(input('what is the grade:'))\n",
    "    if grade<=25:\n",
    "        print('f')\n",
    "        elif<45=<25:\n",
    "            print('E')\n",
    "        elif<=50<45:\n",
    "            print('D')\n",
    "            elif<=60<50:\n",
    "                print('C')\n",
    "                elif<=80<60:\n",
    "                    print('B')\n",
    "                    else>=80<80:\n",
    "                        print('A')\n",
    "    "
   ]
  },
  {
   "cell_type": "code",
   "execution_count": null,
   "id": "ebfa5041",
   "metadata": {},
   "outputs": [],
   "source": [
    "#Write a Python script to merge two Python dictionaries"
   ]
  },
  {
   "cell_type": "code",
   "execution_count": 4,
   "id": "322342e1",
   "metadata": {},
   "outputs": [
    {
     "name": "stdout",
     "output_type": "stream",
     "text": [
      "{'a': 100, 'b': 200, 'x': 300, 'y': 400}\n"
     ]
    }
   ],
   "source": [
    "d1={'a':100, 'b':200}\n",
    "d2={'x':300, 'y':400}\n",
    "d=d1.copy()\n",
    "d.update(d2)\n",
    "print(d)"
   ]
  },
  {
   "cell_type": "code",
   "execution_count": 17,
   "id": "fea343df",
   "metadata": {},
   "outputs": [],
   "source": [
    "#Write a python programto get the largest number from a list"
   ]
  },
  {
   "cell_type": "code",
   "execution_count": 21,
   "id": "3eacb75a",
   "metadata": {},
   "outputs": [
    {
     "name": "stdout",
     "output_type": "stream",
     "text": [
      "80\n"
     ]
    }
   ],
   "source": [
    "print(max (20, 30, 40, 50, 60,  80))\n",
    "\n",
    "   "
   ]
  },
  {
   "cell_type": "code",
   "execution_count": null,
   "id": "22414ace",
   "metadata": {},
   "outputs": [],
   "source": [
    "#8.Write a python program to remove a key from a dictionary"
   ]
  },
  {
   "cell_type": "code",
   "execution_count": 24,
   "id": "9b229ca5",
   "metadata": {},
   "outputs": [
    {
     "name": "stdout",
     "output_type": "stream",
     "text": [
      "{'a': 3, 'b': 4, 'c': 5, 'd': 8}\n",
      "{'b': 4, 'c': 5, 'd': 8}\n"
     ]
    }
   ],
   "source": [
    "my_dict={'a':3, 'b':4, 'c':5, 'd':8}\n",
    "print(my_dict)\n",
    "if 'a'in my_dict:\n",
    "    del my_dict['a']\n",
    "    print(my_dict)"
   ]
  },
  {
   "cell_type": "code",
   "execution_count": null,
   "id": "dde08ff8",
   "metadata": {},
   "outputs": [],
   "source": [
    "#Take input of age of 3 people by user and determine oldest and youngest among them.\n",
    "\n"
   ]
  },
  {
   "cell_type": "code",
   "execution_count": null,
   "id": "10f1c82a",
   "metadata": {},
   "outputs": [],
   "source": [
    "age1=(input('please enter your age'))\n",
    "age2=(input('please enter your age'))\n",
    "age3=(input('please enter your age'))\n",
    "maxage=(age1,age2,age3)\n",
    "minage=(age1,age2,age3)"
   ]
  },
  {
   "cell_type": "code",
   "execution_count": null,
   "id": "be1dec4f",
   "metadata": {},
   "outputs": [],
   "source": []
  }
 ],
 "metadata": {
  "kernelspec": {
   "display_name": "Python 3 (ipykernel)",
   "language": "python",
   "name": "python3"
  },
  "language_info": {
   "codemirror_mode": {
    "name": "ipython",
    "version": 3
   },
   "file_extension": ".py",
   "mimetype": "text/x-python",
   "name": "python",
   "nbconvert_exporter": "python",
   "pygments_lexer": "ipython3",
   "version": "3.9.12"
  }
 },
 "nbformat": 4,
 "nbformat_minor": 5
}
